{
 "cells": [
  {
   "cell_type": "code",
   "execution_count": 4,
   "id": "227f2ee0",
   "metadata": {
    "ExecuteTime": {
     "end_time": "2024-05-16T11:39:08.328413Z",
     "start_time": "2024-05-16T11:39:08.247500Z"
    }
   },
   "outputs": [
    {
     "name": "stdout",
     "output_type": "stream",
     "text": [
      "Notebook dosyasındaki 'id' özellikleri kaldırıldı ve düzenlenmiş dosya kaydedildi.\n"
     ]
    }
   ],
   "source": [
    "import json\n",
    "\n",
    "# Notebook dosyasının yolunu belirtin\n",
    "notebook_path = '16-May-2024_DS4_Canser_Project3.ipynb'\n",
    "output_path = 'new_notebook_fixed.ipynb'\n",
    "\n",
    "# Notebook dosyasını açın\n",
    "with open(notebook_path, 'r', encoding='utf-8') as f:\n",
    "    notebook = json.load(f)\n",
    "\n",
    "# Tüm hücrelerdeki id özelliklerini kaldırın\n",
    "for cell in notebook['cells']:\n",
    "    if 'metadata' in cell and 'id' in cell['metadata']:\n",
    "        del cell['metadata']['id']\n",
    "    if 'id' in cell:\n",
    "        del cell['id']\n",
    "\n",
    "# Düzenlenmiş notebook dosyasını kaydedin\n",
    "with open(output_path, 'w', encoding='utf-8') as f:\n",
    "    json.dump(notebook, f, ensure_ascii=False, indent=2)\n",
    "\n",
    "print(\"Notebook dosyasındaki 'id' özellikleri kaldırıldı ve düzenlenmiş dosya kaydedildi.\")\n"
   ]
  }
 ],
 "metadata": {
  "hide_input": false,
  "kernelspec": {
   "display_name": "Python 3 (ipykernel)",
   "language": "python",
   "name": "python3"
  },
  "language_info": {
   "codemirror_mode": {
    "name": "ipython",
    "version": 3
   },
   "file_extension": ".py",
   "mimetype": "text/x-python",
   "name": "python",
   "nbconvert_exporter": "python",
   "pygments_lexer": "ipython3",
   "version": "3.11.7"
  },
  "toc": {
   "base_numbering": 1,
   "nav_menu": {},
   "number_sections": true,
   "sideBar": true,
   "skip_h1_title": false,
   "title_cell": "Table of Contents",
   "title_sidebar": "Contents",
   "toc_cell": false,
   "toc_position": {},
   "toc_section_display": true,
   "toc_window_display": false
  }
 },
 "nbformat": 4,
 "nbformat_minor": 5
}
