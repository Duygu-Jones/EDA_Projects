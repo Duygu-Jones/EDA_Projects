{
 "cells": [
  {
   "cell_type": "markdown",
   "metadata": {},
   "source": [
    "<a id='import'></a>\n",
    "<div style=\"color:white;\n",
    "            display:fill;\n",
    "            border-radius:10px;\n",
    "            background-color:#0e2f52;\n",
    "            font-size:80%;\n",
    "            font-family:Verdana;\n",
    "            letter-spacing:1px\">\n",
    "    <h1 style='padding: 20px;\n",
    "              color:white;\n",
    "              text-align:center;'>\n",
    "        BIKE SHARING DEMAND IN LONDON\n",
    "    </h1>\n",
    "    </div>\n",
    "\n",
    "<h2 align=\"center\"><font color=#20a0ff> EDA and Prediction </font></h2> \n",
    "\n",
    "---\n",
    "    \n",
    "<p align=\"right\">\n",
    "  Duygu Jones | Data Scientist  | May 2024 \n",
    "    <br>\n",
    "  Follow me:\n",
    "  <a href=\"https://duygujones.vercel.app/\">duygujones.com</a> | \n",
    "  <a href=\"https://www.linkedin.com/in/duygujones/\">Linkedin</a> | \n",
    "  <a href=\"https://github.com/Duygu-Jones\">GitHub</a> | \n",
    "  <a href=\"https://www.kaggle.com/duygujones\">Kaggle</a> | \n",
    "  <a href=\"https://medium.com/@duygujones\">Medium</a> | \n",
    "  <a href=\"https://public.tableau.com/app/profile/duygu.jones/vizzes\">Tableau</a>\n",
    "</p>\n"
   ]
  },
  {
   "cell_type": "markdown",
   "metadata": {},
   "source": [
    "## Table of Contents\n",
    "\n",
    "1. <a href='#introduction'>Introduction</a>\n",
    "2. <a href='#eda'>Exploratory Data Analysis (EDA)</a>\n",
    "   - <a href='#import'>Import and Read the Dataset</a>\n",
    "   - <a href='#read'>Read the Dataset</a>\n",
    "   - <a href='#understanding'>Understanding the Data</a>\n",
    "3. <a href='#fe'>Feature Engineering</a>\n",
    "   - <a href='#rename'>Rename the Columns</a>\n",
    "   - <a href='#datetime'>Date-Time Transformations</a>\n",
    "   - <a href='#extract'>Extract new columns</a>\n",
    "4. <a href='#visualization'>Data Visualization</a>\n",
    "   - <a href='#dist'>Distribution of total bike count</a>\n",
    "   - <a href='#time'>Distribution of Bike Shares Over the Time</a>\n",
    "   - <a href='#weather'>Temperature and Weather Conditions</a>\n",
    "   - <a href='#conditions'>Bike Shares vs. Weather Conditions</a>\n",
    "5. <a href='#selection'>Feature Selection</a>\n",
    "   - <a href='#scaling'>Scaling numerical features</a>\n",
    "   - <a href='#correlation'>Correlation Matrix</a>\n",
    "6. <a href='#model'>Model Training and Evaluation</a>\n",
    "   - <a href='#split'>Splitting the Data</a>\n",
    "   - <a href='#train'>Train the Model</a>\n",
    "   - <a href='#predict'>Make Predictions</a>\n",
    "   - <a href='#evaluate'>Evaluate the Model</a>\n",
    "   - <a href='#visualize'>Visualize the Performance</a>\n",
    "7. <a href='#conclusion'>Conclusions</a>"
   ]
  },
  {
   "cell_type": "markdown",
   "metadata": {},
   "source": [
    "<a id='introduction'></a>\n",
    "<h3 align=\"left\"><font color=#20a0ff>Introduction</font></h3>   \n",
    "\n",
    "\n",
    "- This project aims to analyze and predict bike-sharing demand using historical data.\n",
    "- By examining factors such as seasonality, weather conditions, and time of day, we developed a predictive model to forecast bike share counts. \n",
    "- The insights gained from this analysis can help optimize bike-sharing operations, ensuring better resource allocation and improved user satisfaction.\n",
    "    \n",
    "    \n",
    "<h4 align=\"left\"><font color=#20a0ff>Objectives</font></h4>      \n",
    "    \n",
    "1. **Analyze Bike Sharing Patterns**: Understand seasonal, daily, and hourly trends in bike sharing usage.\n",
    "2. **Assess Impact of External Factors**: Evaluate how weather conditions, holidays, and weekends affect bike sharing demand.\n",
    "3. **Feature Engineering**: Develop and transform features to improve model accuracy.\n",
    "4. **Build Predictive Model**: Train a Random Forest model to predict bike share counts.\n",
    "5. **Evaluate Model Performance**: Use performance metrics and visualizations to assess model accuracy.\n",
    "6. **Provide Actionable Insights**: Recommend optimising bike sharing operations based on analysis findings.\n",
    "   \n",
    "    \n",
    "<h4 align=\"left\"><font color=#20a0ff>About the Datasets </font></h4>    \n",
    " \n",
    "    \n",
    "- **Dataset:** 'store.sharing.csv'\n",
    "- **Content:** The change in the number of bike shares in London according to seasons, temperature, wind speed, etc.\n",
    "- **Rows:** 17414    \n",
    "- **Columns:** 10 \n",
    "\n",
    "INPUT:\n",
    "\n",
    "**- ``timestamp``** - timestamp field for grouping the data<br>\n",
    "**- ``cnt``** - the count of a new bike shares<br>\n",
    "**- ``t1``** - real temperature in C<br>\n",
    "**- ``t2``** - temperature in C “feels like”<br>\n",
    "**- ``hum``** - humidity in percentage<br>\n",
    "**- ``wind_speed``** - wind speed in km/h<br>\n",
    "**- ``weather_code``** - category of the weather<br>\n",
    "**- ``is_holiday``** - boolean field - 1 holiday / 0 non holiday<br>\n",
    "**- ``is_weekend``** - boolean field - 1 if the day is weekend<br>\n",
    "**- ``season``** - category field meteorological seasons: 0-spring ; 1-summer; 2-fall; 3-winter.<br>\n",
    "​\n",
    "**\"weather_code\" category description:**<br>\n",
    "**``1``** = Clear ; mostly clear but have some values with haze/fog/patches of fog/ fog in vicinity<br> \n",
    "**``2``** = scattered clouds / few clouds<br> \n",
    "**``3``** = Broken clouds<br> \n",
    "**``4``** = Cloudy<br> \n",
    "**``7``** = Rain/ light Rain shower/ Light rain<br> \n",
    "**``10``** = rain with thunderstorm<br> \n",
    "**``26``** = snowfall<br> \n",
    "**``94``** = Freezing Fog<br>"
   ]
  },
  {
   "cell_type": "markdown",
   "metadata": {},
   "source": [
    "<a id='eda'></a>\n",
    "## <font color=#20a0ff> <b>  Exploratory Data Analysis (EDA)</b><font color='orange'>"
   ]
  },
  {
   "cell_type": "markdown",
   "metadata": {},
   "source": [
    "<a id='import'></a>\n",
    "### Import and Read the Dataset"
   ]
  },
  {
   "cell_type": "code",
   "execution_count": 2,
   "metadata": {},
   "outputs": [],
   "source": [
    "plt.figure(figsize=(8, 4))\n",
    "import numpy as np \n",
    "import pandas as pd \n",
    "\n",
    "import matplotlib as mpl  \n",
    "import matplotlib.pyplot as plt \n",
    "import seaborn as sns  \n",
    "import missingno as mn\n",
    "%matplotlib inline \n",
    "from datetime import datetime\n",
    "\n",
    "plt.rcParams['figure.figsize'] = [8, 4]\n",
    "\n",
    "import warnings\n",
    "warnings.filterwarnings(\"ignore\")\n",
    "warnings.warn(\"this will not show\")"
   ]
  },
  {
   "cell_type": "code",
   "execution_count": 3,
   "metadata": {},
   "outputs": [],
   "source": [
    "df0 = pd.read_csv('/kaggle/input/bike-store-sharing-london/store_sharing.csv')\n",
    "df = df0.copy()"
   ]
  },
  {
   "cell_type": "code",
   "execution_count": 4,
   "metadata": {},
   "outputs": [],
   "source": [
    "df.head()"
   ]
  },
  {
   "cell_type": "markdown",
   "metadata": {},
   "source": [
    "<a id='understanding'></a>\n",
    "### Understanding the Data"
   ]
  },
  {
   "cell_type": "code",
   "execution_count": 7,
   "metadata": {},
   "outputs": [],
   "source": [
    "df.info()"
   ]
  },
  {
   "cell_type": "code",
   "execution_count": 8,
   "metadata": {},
   "outputs": [],
   "source": [
    "df.columns"
   ]
  },
  {
   "cell_type": "code",
   "execution_count": 9,
   "metadata": {},
   "outputs": [],
   "source": [
    "# Basic statistics\n",
    "\n",
    "df.describe().T"
   ]
  },
  {
   "cell_type": "code",
   "execution_count": 5,
   "metadata": {},
   "outputs": [],
   "source": [
    "# Check out the duplicated values\n",
    "\n",
    "duplicate_rows = df.duplicated().sum()\n",
    "if duplicate_rows > 0:\n",
    "    print(\"\\nNumber of duplicate rows:\", duplicate_rows)\n",
    "    print(\"Duplicate Rows:\")\n",
    "    print(df[df.duplicated()])\n",
    "else:\n",
    "    print(\"\\nNo duplicate rows found.\")"
   ]
  },
  {
   "cell_type": "code",
   "execution_count": 6,
   "metadata": {},
   "outputs": [],
   "source": [
    "# Check out the missing values\n",
    "\n",
    "df.isnull().sum()"
   ]
  },
  {
   "cell_type": "markdown",
   "metadata": {},
   "source": [
    "<a id='fe'></a>\n",
    "## <font color=#20a0ff> <b> Feature Engineering </b><font color='orange'>"
   ]
  },
  {
   "cell_type": "markdown",
   "metadata": {},
   "source": [
    "<a id='rename'></a>\n",
    "### Rename the Columns"
   ]
  },
  {
   "cell_type": "code",
   "execution_count": 10,
   "metadata": {},
   "outputs": [],
   "source": [
    "df.rename(columns={'cnt':'total_count', 't1':'temp', 't2':'feel_temp', 'hum':'humidity'}, inplace=True)\n",
    "df.columns"
   ]
  },
  {
   "cell_type": "markdown",
   "metadata": {},
   "source": [
    "<a id='datetime'></a>\n",
    "### Date-Time Transformations"
   ]
  },
  {
   "cell_type": "code",
   "execution_count": 11,
   "metadata": {},
   "outputs": [],
   "source": [
    "#convert the 'timestamp' column to a datetime format\n",
    "\n",
    "df.timestamp = pd.to_datetime(df.timestamp)"
   ]
  },
  {
   "cell_type": "markdown",
   "metadata": {},
   "source": [
    "<a id='extract'></a>\n",
    "### Extract new columns (day of the week, day of the month, hour, month, season, year etc.)**"
   ]
  },
  {
   "cell_type": "code",
   "execution_count": 13,
   "metadata": {},
   "outputs": [],
   "source": [
    "df['year'] = pd.to_datetime(df['timestamp'], format='%d/%m/%Y').dt.year\n",
    "df['month'] = pd.to_datetime(df['timestamp'], format='%d/%m/%Y').dt.month\n",
    "df['day'] = pd.to_datetime(df['timestamp'], format='%d/%m/%Y').dt.day\n",
    "df['day_of_week'] = pd.to_datetime(df['timestamp'], format='%d/%m/%Y').dt.dayofweek\n",
    "df['hour'] = pd.to_datetime(df['timestamp'], format='%d/%m/%Y').dt.hour"
   ]
  },
  {
   "cell_type": "code",
   "execution_count": 14,
   "metadata": {},
   "outputs": [],
   "source": [
    "df.head()"
   ]
  },
  {
   "cell_type": "code",
   "execution_count": 15,
   "metadata": {},
   "outputs": [],
   "source": [
    "df.info()"
   ]
  },
  {
   "cell_type": "markdown",
   "metadata": {},
   "source": [
    "<a id='visualization'></a>\n",
    "## <font color=#20a0ff> <b> Data Visualisation </b><font color='orange'>"
   ]
  },
  {
   "cell_type": "code",
   "execution_count": 16,
   "metadata": {},
   "outputs": [],
   "source": [
    "# Distribution of total bike count \n",
    "sns.histplot(df['total_count'], bins=50, kde=True) \n",
    "plt.title('Distribution of Bike Share') \n",
    "plt.xlabel('Count') \n",
    "plt.ylabel('Frequency') \n",
    "plt.show()"
   ]
  },
  {
   "cell_type": "markdown",
   "metadata": {},
   "source": [
    "<font color=dodgerblue> 💡 Output:  Histogram of Bike Share Distribution</font>  \n",
    "\n",
    "The histogram shows the distribution of bike share counts.\n",
    "\n",
    "- **Right-Skewed Distribution**: The distribution is heavily right-skewed, indicating that most bike share counts are low, with a significant peak at very low values. This suggests that there are many instances of low bike share usage and fewer instances of high usage."
   ]
  },
  {
   "cell_type": "markdown",
   "metadata": {},
   "source": [
    " <a id='dist'></a>\n",
    " ### Distribution of Bike Shares Over the Time\n"
   ]
  },
  {
   "cell_type": "code",
   "execution_count": 17,
   "metadata": {},
   "outputs": [],
   "source": [
    "df['timestamp'] = pd.to_datetime(df['timestamp']).dt.date\n",
    "\n",
    "df_sum = pd.DataFrame(df.groupby(\"timestamp\")['total_count'].sum())\n",
    "\n",
    "\n",
    "sns.lineplot(x=\"timestamp\",y=\"total_count\", data = df_sum);\n",
    "\n",
    "plt.xlabel(\"\")\n",
    "plt.ylabel(\"Total Bike Share Count\")\n",
    "plt.title(\"Bike Share Counts Over Time\")\n",
    "\n",
    "plt.xticks(rotation=90);"
   ]
  },
  {
   "cell_type": "markdown",
   "metadata": {},
   "source": [
    " #### Bike shares count by years "
   ]
  },
  {
   "cell_type": "code",
   "execution_count": 18,
   "metadata": {},
   "outputs": [],
   "source": [
    "ax = sns.barplot(data=df, x=\"year\", y=\"total_count\")\n",
    "for p in ax.patches:\n",
    "    ax.annotate(round(p.get_height(), 2), (p.get_x() + p.get_width() / 2., p.get_height()), \n",
    "                ha='center', va='center', xytext=(0,-50), textcoords='offset points',fontweight='bold')"
   ]
  },
  {
   "cell_type": "markdown",
   "metadata": {},
   "source": [
    "<font color=dodgerblue> 💡 Output:Plot bike shares by years </font>  \n",
    "\n",
    "- The average bike shares were highest in 2016, followed by 2015, with a significant drop in 2017. This suggests a peak in bike sharing activity in 2016, followed by a sharp decline the next year."
   ]
  },
  {
   "cell_type": "markdown",
   "metadata": {},
   "source": [
    " #### Bike share count by months "
   ]
  },
  {
   "cell_type": "code",
   "execution_count": 19,
   "metadata": {},
   "outputs": [],
   "source": [
    "df_sum_2 = pd.DataFrame(df.groupby(\"month\").total_count.sum())"
   ]
  },
  {
   "cell_type": "code",
   "execution_count": 20,
   "metadata": {},
   "outputs": [],
   "source": [
    "from matplotlib.ticker import FuncFormatter\n",
    "\n",
    "# Function to format the y-axis labels\n",
    "def thousands_formatter(x, pos):\n",
    "    return f'{int(x/1000)}'\n",
    "\n",
    "ax = sns.lineplot(x=\"month\", y=\"total_count\", data=df_sum_2)\n",
    "\n",
    "# Apply the formatter to the y-axis\n",
    "ax.yaxis.set_major_formatter(FuncFormatter(thousands_formatter))\n",
    "\n",
    "plt.xlabel(\"Month\")\n",
    "plt.ylabel(\"Count\")\n",
    "plt.title(\"Bike Shares by Month\")\n",
    "plt.show()\n"
   ]
  },
  {
   "cell_type": "markdown",
   "metadata": {},
   "source": [
    "<font color=dodgerblue> 💡 Output: Bike shares over time by year-month (lineplot).</font>  \n",
    "    \n",
    "- The data shows seasonal peaks in bike shares during summer (June to August) and declines in winter (December to February). \n",
    "- Bike shares increased slightly from 2015 to 2016 but dropped significantly at the beginning of 2017, likely due to external factors or incomplete data. \n",
    "- Overall, bike sharing is influenced by warmer weather, with higher usage in summer."
   ]
  },
  {
   "cell_type": "markdown",
   "metadata": {},
   "source": [
    "#### Bike shares count by season"
   ]
  },
  {
   "cell_type": "markdown",
   "metadata": {},
   "source": [
    "- **According to the provided graph showing the maximum and minimum bike shares by season, which season had the highest number of bike shares?**"
   ]
  },
  {
   "cell_type": "code",
   "execution_count": 21,
   "metadata": {},
   "outputs": [],
   "source": [
    "df.groupby(\"season\")[\"total_count\"].agg([max,min,np.mean])"
   ]
  },
  {
   "cell_type": "code",
   "execution_count": 22,
   "metadata": {},
   "outputs": [],
   "source": [
    "# Plotting bike sharing by season as a bar chart\n",
    "\n",
    "season_labels = {0: 'Winter', 1: 'Spring', 2: 'Summer', 3: 'Autumn'}\n",
    "\n",
    "sns.barplot(x=df['season'].replace(season_labels), y='total_count', data=df, palette='viridis')\n",
    "plt.xlabel('Season')\n",
    "plt.ylabel('Bike Shares')\n",
    "plt.title('Total Bike Shares by Season')\n",
    "\n",
    "# y-axis labels\n",
    "y_labels = plt.gca().get_yticks()\n",
    "plt.gca().set_yticklabels([f'{int(label/1000)}' for label in y_labels])\n",
    "\n",
    "plt.show()"
   ]
  },
  {
   "cell_type": "markdown",
   "metadata": {},
   "source": [
    "<font color=dodgerblue> 💡 Output: Total Bike Shares by Season </font>  \n",
    "\n",
    "- Bike shares are highest in the spring season, followed by summer and winter, with autumn having the lowest bike share counts. This suggests that more favorable weather conditions in spring and summer encourage higher bike usage compared to autumn and winter."
   ]
  },
  {
   "cell_type": "markdown",
   "metadata": {},
   "source": [
    " #### Bike share count by weekdays for seasons"
   ]
  },
  {
   "cell_type": "code",
   "execution_count": 23,
   "metadata": {},
   "outputs": [],
   "source": [
    "# Define the season and day of the week labels\n",
    "season_labels = {0: 'Winter', 1: 'Spring', 2: 'Summer', 3: 'Autumn'}\n",
    "day_labels = ['Monday', 'Tuesday', 'Wednesday', 'Thursday', 'Friday', 'Saturday', 'Sunday']\n",
    "\n",
    "# Aggregating the data by season and day of the week\n",
    "daily_seasonal_data = df.groupby(['season', 'day_of_week'])['total_count'].mean().reset_index()\n",
    "\n",
    "# Creating the point plot without adding a new column\n",
    "sns.pointplot(x='day_of_week', y='total_count', hue=daily_seasonal_data['season'].replace(season_labels), data=daily_seasonal_data, palette='viridis')\n",
    "plt.xlabel('Day of the Week')\n",
    "plt.ylabel('Bike Shares')\n",
    "plt.title('Average Bike Shares by Day of the Week for Seasons')\n",
    "\n",
    "# Update the x-axis labels to show the days of the week\n",
    "plt.xticks(ticks=range(7), labels=day_labels)\n",
    "\n",
    "plt.legend(title='Season')\n",
    "plt.tight_layout()\n",
    "plt.show()"
   ]
  },
  {
   "cell_type": "markdown",
   "metadata": {},
   "source": [
    "<font color=dodgerblue> 💡 Output:Average Bike Shares by Day of the Week for Seasons.</font>  \n",
    "\n",
    "- **Weekday Peaks**: Highest bike shares on weekdays, especially Wednesday to Friday.\n",
    "- **Weekend Drop**: Significant decrease in bike shares on Saturday and Sunday.\n",
    "- **Seasonal Variation**: Summer and Spring have the highest bike shares; Winter has the lowest.\n",
    "- **Consistent Trend**: Similar patterns across all seasons with higher usage on weekdays and lower on weekends."
   ]
  },
  {
   "cell_type": "markdown",
   "metadata": {},
   "source": [
    " #### Bike shares count by hours"
   ]
  },
  {
   "cell_type": "code",
   "execution_count": 24,
   "metadata": {},
   "outputs": [],
   "source": [
    "# Plotting\n",
    "\n",
    "# Plot for is_holiday\n",
    "sns.lineplot(data=df, x=\"hour\", y=\"total_count\", hue=\"is_holiday\", palette=\"Set1\")\n",
    "plt.title(\"Bike Shares by Hour (Holiday vs. Non-Holiday)\")\n",
    "\n",
    "# Adjust legend to match line colors\n",
    "handles, labels = plt.gca().get_legend_handles_labels()\n",
    "plt.legend(handles=handles, labels=[\"No\", \"Yes\"], title=\"Holiday\")\n",
    "\n",
    "plt.tight_layout()\n",
    "plt.show()"
   ]
  },
  {
   "cell_type": "code",
   "execution_count": 25,
   "metadata": {},
   "outputs": [],
   "source": [
    "# Plotting\n",
    "\n",
    "# Plot for is_weekend\n",
    "sns.lineplot(data=df, x=\"hour\", y=\"total_count\", hue=\"is_weekend\", palette=\"Set2\")\n",
    "plt.title(\"Bike Shares by Hour (Weekend vs. Weekday)\")\n",
    "\n",
    "# Adjust legend to match line colors\n",
    "handles, labels = plt.gca().get_legend_handles_labels()\n",
    "plt.legend(handles=handles, labels=[\"No\", \"Yes\"], title=\"Weekend\")\n",
    "\n",
    "plt.tight_layout()\n",
    "plt.show()"
   ]
  },
  {
   "cell_type": "markdown",
   "metadata": {},
   "source": [
    "<font color=dodgerblue> 💡 Output: Bike shares by hours on (holidays, weekend). </font>  \n",
    "\n",
    "- **Morning and Evening Peaks**: Bike shares peak around 8 AM and 5 PM, indicating high usage during commute hours.\n",
    "- **Weekdays vs. Weekends**: Weekdays have higher bike shares in the morning and evening compared to weekends.\n",
    "- **Holidays**: Bike shares are lower on holidays compared to non-holidays."
   ]
  },
  {
   "cell_type": "markdown",
   "metadata": {},
   "source": [
    "#### Distribution of bike shares by holidays and weekends"
   ]
  },
  {
   "cell_type": "code",
   "execution_count": 26,
   "metadata": {},
   "outputs": [],
   "source": [
    "# Create a figure with 2 subplots side by side\n",
    "fig, ax = plt.subplots(1, 2, figsize=(8, 5))\n",
    "\n",
    "# Colors and explode settings for the pie charts\n",
    "colors_list = [\"lightblue\", \"orange\"]\n",
    "explode_list = [0, 0.1]\n",
    "\n",
    "# Pie chart for is_holiday\n",
    "ax[0].pie(df['is_holiday'].value_counts().values,\n",
    "          labels=[\"No\", \"Yes\"],\n",
    "          labeldistance=0.4,\n",
    "          autopct=\"%.1f%%\", shadow=True, \n",
    "          colors=colors_list, explode=explode_list,\n",
    "          startangle=90)\n",
    "ax[0].set_title(\"Distribution Bike Share by Holidays\", fontsize=10)\n",
    "\n",
    "# Pie chart for is_weekend\n",
    "ax[1].pie(df['is_weekend'].value_counts().values,\n",
    "          labels=[\"weekday\", \"weekend\"],\n",
    "          labeldistance=0.4,\n",
    "          autopct=\"%.1f%%\", shadow=True, \n",
    "          colors=colors_list, explode=explode_list)\n",
    "ax[1].set_title(\"Distribution Bike Share by Weekday/Weekend\", fontsize=10)\n",
    "\n",
    "# Adjust layout to prevent overlap\n",
    "plt.tight_layout()\n",
    "plt.show()"
   ]
  },
  {
   "cell_type": "markdown",
   "metadata": {},
   "source": [
    "<font color=dodgerblue> 💡 Output: Distribution of Bike Shares by Holiday and Weekend </font>  \n",
    "\n",
    "**Weekend**:\n",
    "- The pie chart shows that bike shares are significantly higher on weekdays, making up 71.5% of the total usage.\n",
    "- On weekends, bike shares account for only 28.5% of the total usage.\n",
    "- This suggests that people predominantly use bike shares for commuting purposes during the workweek rather than for leisure or other activities on weekends.\n",
    "\n",
    "**Holiday**:\n",
    "- Non-Holiday Usage: The vast majority of bike shares (97.8%) occur on non-holidays.\n",
    "- Holiday Usage: Only a small fraction (2.2%) of bike shares occur on holidays"
   ]
  },
  {
   "cell_type": "markdown",
   "metadata": {},
   "source": [
    " <a id='weather'></a>\n",
    " ### Temperature and Weather Conditions"
   ]
  },
  {
   "cell_type": "markdown",
   "metadata": {},
   "source": [
    "#### Overview of the Weather in London"
   ]
  },
  {
   "cell_type": "code",
   "execution_count": 27,
   "metadata": {},
   "outputs": [],
   "source": [
    "fig, axes = plt.subplots(2, 2, figsize=(8,6))\n",
    "\n",
    "# Histogram for t1\n",
    "axes[0, 0].hist(x=\"temp\", data=df, edgecolor=\"black\", linewidth=2, color='royalblue')\n",
    "axes[0, 0].set_title(\"Variation of temperatures1\", fontsize=10)\n",
    "\n",
    "# Histogram for t2\n",
    "axes[0, 1].hist(x=\"feel_temp\", data=df, edgecolor=\"black\", linewidth=2, color='dodgerblue')\n",
    "axes[0, 1].set_title(\"Variation of temperatures2 feels like\", fontsize=10)\n",
    "\n",
    "# Histogram for wind speed\n",
    "axes[1, 0].hist(x=\"wind_speed\", data=df, edgecolor=\"black\", linewidth=2, color='lightblue')\n",
    "axes[1, 0].set_title(\"Variation of windspeed\", fontsize=10)\n",
    "\n",
    "# Histogram for humidity\n",
    "axes[1, 1].hist(x=\"humidity\", data=df, edgecolor=\"black\", linewidth=2, color='white')\n",
    "axes[1, 1].set_title(\"Variation of humidity\", fontsize=10)\n",
    "\n",
    "plt.tight_layout()\n",
    "plt.show()\n"
   ]
  },
  {
   "cell_type": "markdown",
   "metadata": {},
   "source": [
    "<font color=dodgerblue> 💡 Output: </font>  \n",
    " \n",
    "-  Temperature frequency peaks around 15 degrees Celsius.\n",
    "-  Feels-like temperature frequency is highest around 15 degrees Celsius.\n",
    "-  Wind speed frequency is highest in the 5-10 km/h range.\n",
    "-  Humidity frequency increases up to 80% and then decreases."
   ]
  },
  {
   "cell_type": "markdown",
   "metadata": {},
   "source": [
    "<a id='weather'></a>\n",
    "#### Bike Shares vs. Weather Conditions"
   ]
  },
  {
   "cell_type": "code",
   "execution_count": 28,
   "metadata": {},
   "outputs": [],
   "source": [
    "fig, ax = plt.subplots(nrows=2, ncols=1, figsize=(15, 10))\n",
    "\n",
    "# Scatter plot for temp vs. total_count without season hue\n",
    "sns.scatterplot(x=\"temp\", y=\"total_count\", data=df, ax=ax[0], palette=\"coolwarm\")\n",
    "ax[0].set_title(\"Bike Shares Count vs. Temperature (t1)\")\n",
    "ax[0].set_xlabel(\"Temperature (t1)\")\n",
    "ax[0].set_ylabel(\"Bike Shares\")\n",
    "\n",
    "# Scatter plot for weather_code vs. total_count without season hue\n",
    "sns.scatterplot(x=\"weather_code\", y=\"total_count\", data=df, ax=ax[1], palette=\"coolwarm\")\n",
    "ax[1].set_title(\"Bike Shares Count vs. Weather Code\")\n",
    "ax[1].set_xlabel(\"Weather Code\")\n",
    "ax[1].set_ylabel(\"Bike Shares\")\n",
    "\n",
    "# Labels for weather codes\n",
    "weather_code_labels = {\n",
    "    1: 'Clear',\n",
    "    2: 'Scattered clouds',\n",
    "    3: 'Broken clouds',\n",
    "    4: 'Cloudy',\n",
    "    7: 'Rain',\n",
    "    10: 'Thunderstorm',\n",
    "    26: 'Snowfall',\n",
    "    94: 'Freezing fog'\n",
    "}\n",
    "\n",
    "# Increase space between x-ticks and add labels\n",
    "ax[1].set_xticks(list(weather_code_labels.keys()))\n",
    "ax[1].set_xticklabels(list(weather_code_labels.values()), rotation=90, ha='center', fontsize=10)\n",
    "\n",
    "# Adjust spacing\n",
    "plt.tight_layout(pad=3.0)\n",
    "\n",
    "plt.show()"
   ]
  },
  {
   "cell_type": "markdown",
   "metadata": {},
   "source": [
    "<font color=dodgerblue> 💡 Output: </font>  \n",
    "\n",
    "1. **Bike Shares vs. Temperature (t1)**:\n",
    "   - Bike shares tend to increase with temperature, with the highest bike share counts occurring around 15-25 degrees Celsius.\n",
    "\n",
    "2. **Bike Shares vs. Weather Code**:\n",
    "   - The highest bike shares occur during clear and scattered clouds weather conditions, while bike shares significantly drop during snowfall and freezing fog."
   ]
  },
  {
   "cell_type": "markdown",
   "metadata": {},
   "source": [
    "<a id='selection'></a>\n",
    "## <font color=#20a0ff> <b> Feature Selection </b><font color='orange'>"
   ]
  },
  {
   "cell_type": "markdown",
   "metadata": {},
   "source": [
    "<a id='scaling'></a>\n",
    "### Scaling numerical features"
   ]
  },
  {
   "cell_type": "code",
   "execution_count": 29,
   "metadata": {},
   "outputs": [],
   "source": [
    "# Scaling numerical features using the `StandardScaler()` function.\n",
    "\n",
    "from sklearn.preprocessing import StandardScaler\n",
    "\n",
    "# Identify numerical features (excluding 'timestamp' and categorical features)\n",
    "numerical_features = df.select_dtypes(include=['float64', 'int64']).columns.tolist()\n",
    "\n",
    "# Initialize the scaler\n",
    "scaler = StandardScaler()\n",
    "\n",
    "# Apply scaling to numerical features\n",
    "df_scaled = scaler.fit_transform(df[numerical_features])\n",
    "\n",
    "# Convert the scaled data back into a DataFrame\n",
    "df_scaled = pd.DataFrame(df_scaled, columns=numerical_features)\n",
    "\n",
    "# Verify the scaling result\n",
    "print(df_scaled.head())"
   ]
  },
  {
   "cell_type": "markdown",
   "metadata": {},
   "source": [
    "<a id='correlation'></a>\n",
    "### Correlation Matrix "
   ]
  },
  {
   "cell_type": "code",
   "execution_count": 30,
   "metadata": {},
   "outputs": [],
   "source": [
    "# Correlation Matrix \n",
    "correlation_matrix = df_scaled.iloc[:,0:9].corr()\n",
    "\n",
    "sns.heatmap(correlation_matrix, annot=True, cmap='coolwarm')\n",
    "plt.title('Correlation Matrix of DataFrame Columns')\n",
    "plt.show()"
   ]
  },
  {
   "cell_type": "markdown",
   "metadata": {},
   "source": [
    "<font color=dodgerblue> 💡 Output:  Correlation with the Heatmap.</font>  \n",
    "\n",
    "1. **Bike Shares Count and Temperatures**:\n",
    "   - There is a moderate positive correlation between `Count` and `temp` (0.39) and `Count` and `feel_temp` (0.37). This suggests that bike shares increase as temperatures rise.\n",
    "\n",
    "2. **Bike Shares Count and Humidity**:\n",
    "   - There is a moderate negative correlation between `Count` and `humidity` (-0.46), indicating that higher humidity levels are associated with fewer bike shares.\n",
    "\n",
    "3. **Humidity and Weather Code**:\n",
    "   - Humidity has a moderate positive correlation with the weather code (0.33), suggesting that certain weather conditions, like rain or fog, are associated with higher humidity levels. \n",
    "\n",
    "6. **Temperatures and Humidity**:\n",
    "   - There is a moderate negative correlation between temperature (temp, feel_temp) and humidity (-0.45 and -0.4 respectively), indicating that higher temperatures are generally associated with lower humidity."
   ]
  },
  {
   "cell_type": "markdown",
   "metadata": {},
   "source": [
    "### Negatife and Positive Correlations of Bike Share(cnt) vs other Columns"
   ]
  },
  {
   "cell_type": "code",
   "execution_count": 31,
   "metadata": {},
   "outputs": [],
   "source": [
    "plt.figure(figsize=(8, 4))\n",
    "\n",
    "df_scaled.iloc[:,0:9].corr()[[\"total_count\"]].sort_values(by=\"total_count\").plot.bar();"
   ]
  },
  {
   "cell_type": "markdown",
   "metadata": {},
   "source": [
    "<font color=dodgerblue> 💡 Output:  Correlation of Bike Share count vs other Columns</font>  \n",
    " \n",
    "    \n",
    "1. **Positive Correlations with Bike Shares (cnt)**:\n",
    "   - **Temperature (t1)**: Moderate positive correlation (0.39) suggests that bike shares increase as the real temperature rises.\n",
    "   - **Feels-like Temperature (t2)**: Moderate positive correlation (0.37) suggests that bike shares increase as the feels-like temperature rises.\n",
    "   - **Wind Speed**: Weak positive correlation (0.12) indicates a slight increase in bike shares with higher wind speeds.\n",
    "\n",
    "2. **Negative Correlations with Bike Shares (cnt)**:\n",
    "   - **Humidity (hum)**: Moderate negative correlation (-0.46) indicates that bike shares decrease as humidity increases.\n",
    "   - **Weather Code**: Weak negative correlation (-0.17) suggests that adverse weather conditions slightly reduce bike shares.\n",
    "   - **Season**: Weak negative correlation (-0.12) indicates that bike shares are somewhat lower in certain seasons.\n",
    "   - **Weekend (is_weekend)**: Weak negative correlation (-0.096) indicates fewer bike shares on weekends.\n",
    "   - **Holiday (is_holiday)**: Very weak negative correlation (-0.052) suggests slightly fewer bike shares on holidays."
   ]
  },
  {
   "cell_type": "markdown",
   "metadata": {},
   "source": [
    "<a id='model'></a>\n",
    "## <font color=#20a0ff> <b> Model Training and Evaluation </b><font color='orange'>  "
   ]
  },
  {
   "cell_type": "markdown",
   "metadata": {},
   "source": [
    "<a id='split'></a>\n",
    "### Splitting the Data\n",
    "\n",
    "- We will assign all the independent variables to X, and the dependent variable, 'total_count', to Y.\n",
    "- Then split the dataset into training and test sets to build and evaluate our machine learning model."
   ]
  },
  {
   "cell_type": "code",
   "execution_count": 32,
   "metadata": {},
   "outputs": [],
   "source": [
    "X = df.drop(['total_count','timestamp'], axis=1) # features\n",
    "y = df['total_count']  # target"
   ]
  },
  {
   "cell_type": "code",
   "execution_count": null,
   "metadata": {},
   "outputs": [],
   "source": [
    "X.info()"
   ]
  },
  {
   "cell_type": "code",
   "execution_count": 33,
   "metadata": {},
   "outputs": [],
   "source": [
    "from sklearn.model_selection import train_test_split\n",
    "\n",
    "# Split the data into training and test sets\n",
    "X_train, X_test, y_train, y_test = train_test_split(X, y, test_size=0.2, random_state=42)"
   ]
  },
  {
   "cell_type": "markdown",
   "metadata": {},
   "source": [
    "<a id='train'></a>\n",
    "### Train the Model\n",
    "\n",
    "- We will train a Random Forest model on the training data and use it to make predictions on the test data."
   ]
  },
  {
   "cell_type": "code",
   "execution_count": 34,
   "metadata": {},
   "outputs": [],
   "source": [
    "from sklearn.ensemble import RandomForestRegressor\n",
    "\n",
    "# Initialize the Random Forest model\n",
    "model = RandomForestRegressor(n_estimators=100, random_state=42)\n",
    "\n",
    "# Train the model on the training data\n",
    "model.fit(X_train, y_train)\n"
   ]
  },
  {
   "cell_type": "markdown",
   "metadata": {},
   "source": [
    "<a id='predict'></a>\n",
    "### Make Predictions\n",
    "\n",
    "- We will evaluate the model using metrics such as Mean Squared Error and R^2 Score."
   ]
  },
  {
   "cell_type": "code",
   "execution_count": 35,
   "metadata": {},
   "outputs": [],
   "source": [
    "# Make predictions on the test data\n",
    "y_pred = model.predict(X_test)\n",
    "y_pred"
   ]
  },
  {
   "cell_type": "markdown",
   "metadata": {},
   "source": [
    "<a id='evaluate'></a>\n",
    "### Evaluate the Model\n",
    "\n",
    "- We will evaluate the model using metrics such as Mean Squared Error and R^2 Score."
   ]
  },
  {
   "cell_type": "code",
   "execution_count": 36,
   "metadata": {},
   "outputs": [],
   "source": [
    "from sklearn.metrics import mean_squared_error, r2_score\n",
    "\n",
    "# Calculate the Mean Squared Error\n",
    "mse = mean_squared_error(y_test, y_pred)\n",
    "print(f\"Mean Squared Error: {mse}\")\n",
    "\n",
    "# Calculate the R^2 Score\n",
    "r2 = r2_score(y_test, y_pred)\n",
    "print(f\"R^2 Score: {r2}\")"
   ]
  },
  {
   "cell_type": "markdown",
   "metadata": {},
   "source": [
    "<a id='visualize'></a>\n",
    "### Visualize the Performance"
   ]
  },
  {
   "cell_type": "code",
   "execution_count": 37,
   "metadata": {},
   "outputs": [],
   "source": [
    "plt.figure(figsize=(8, 4))\n",
    "# Scatter plot: Actual vs Predicted\n",
    "plt.scatter(y_test, y_pred, alpha=0.5)\n",
    "plt.plot([y_test.min(), y_test.max()], [y_test.min(), y_test.max()], 'r--')\n",
    "plt.xlabel('Actual')\n",
    "plt.ylabel('Predicted')\n",
    "plt.title('Actual vs Predicted Bike Shares')\n",
    "plt.show()"
   ]
  },
  {
   "cell_type": "markdown",
   "metadata": {},
   "source": [
    "<font color=dodgerblue> 💡Scatter Plot: ompares the actual vs. predicted values. </font> \n",
    "\n",
    "- The red dashed line represents the ideal scenario where predictions perfectly match the actual values.\n",
    "- The scatter plot shows a strong positive correlation between actual and predicted bike share counts, indicating good model performance. \n",
    "- However, the model is less accurate at predicting higher bike share counts, with more significant deviations observed at these values."
   ]
  },
  {
   "cell_type": "code",
   "execution_count": 38,
   "metadata": {},
   "outputs": [],
   "source": [
    "plt.figure(figsize=(8, 4))\n",
    "# Histogram: Distribution of prediction errors\n",
    "errors = y_test - y_pred\n",
    "\n",
    "sns.histplot(errors, bins=30, kde=True)\n",
    "plt.xlabel('Prediction Error')\n",
    "plt.title('Distribution of Prediction Errors')\n",
    "plt.show()"
   ]
  },
  {
   "cell_type": "markdown",
   "metadata": {},
   "source": [
    "<font color=dodgerblue> 💡Histogram </font> \n",
    "\n",
    "- The histogram shows the distribution of the prediction errors (differences between actual and predicted values).\n",
    "\n",
    "- **Centered Around Zero**: The errors are tightly clustered around zero, indicating that the model's predictions are generally accurate.\n",
    "- **Symmetrical Distribution**: The symmetrical shape suggests that the model's errors are evenly distributed, with no significant bias in overestimating or underestimating bike shares.\n",
    "\n",
    "This indicates a well-performing model with minimal prediction errors."
   ]
  },
  {
   "cell_type": "markdown",
   "metadata": {},
   "source": [
    "<a id='conclusion'></a>\n",
    "## <font color=dodgerblue> 💡CONCLUSİONS </font> \n",
    "\n",
    "### Key Insights:\n",
    "\n",
    "1. **Seasonal and Weather Influence**: Bike sharing demand changes significantly with the seasons and weather and peak during summer months, indicating higher usage in warmer weather. This means bike share programs can plan and manage resources better by considering these factors.\n",
    "\n",
    "2. **Commuting Patterns**: There are clear peaks in bike usage during morning and evening rush hours and between weekdays and weekends, as well as holidays. Weekends and holidays generally show lower bike share counts.This indicates that bike sharing is primarily used for commuting on regular weekdays. Improving infrastructure and services during these times can enhance the biking experience.\n",
    "\n",
    "3. **Model Reliability**: The Random Forest model performs well in predicting bike share demand, making it a reliable tool for future demand forecasting and decision-making.\n",
    "\n",
    "\n",
    "### Recommendations:\n",
    "\n",
    "1. **Seasonal Planning**: Increase the number of available bikes during the summer when demand is high, and reduce it in the winter when fewer people are biking.\n",
    "\n",
    "2. **Peak Hour Management**: Make sure there are more bikes available during peak commuting hours to meet the high demand and ensure users can find bikes when they need them.\n",
    "\n",
    "3. **Weather-Dependent Strategies**: Develop strategies that adjust bike availability based on weather forecasts, ensuring bikes are available when conditions are favorable for biking.\n",
    "\n",
    "### Overall Summary:\n",
    "\n",
    "This analysis provides valuable insights into the factors affecting bike sharing demand, such as seasonal changes, weather conditions, and commuting patterns. The Random Forest model has proven effective in predicting future bike share demand, which can help in making strategic decisions to optimize bike sharing services. Implementing these recommendations can enhance user satisfaction and ensure the bike sharing program runs smoothly."
   ]
  },
  {
   "cell_type": "markdown",
   "metadata": {},
   "source": [
    "<a id='import'></a>\n",
    "<div style=\"color:white;\n",
    "            display:fill;\n",
    "            border-radius:10px;\n",
    "            background-color:#0e2f52;\n",
    "            font-size:80%;\n",
    "            font-family:Verdana;\n",
    "            letter-spacing:1px\">\n",
    "    <h3 style='padding: 20px;\n",
    "              color:white;\n",
    "              text-align:center;'>\n",
    "        Thank you...\n",
    "    </h3>\n",
    "    </div>\n",
    "\n",
    "---\n",
    "\n",
    "<p align=\"right\">\n",
    "  Duygu Jones | Data Scientist  | May 2024\n",
    "    \n",
    "  <br>\n",
    "  Follow me:\n",
    "  <a href=\"https://duygujones.vercel.app/\">duygujones.com</a> | \n",
    "  <a href=\"https://www.linkedin.com/in/duygujones/\">Linkedin</a> | \n",
    "  <a href=\"https://github.com/Duygu-Jones\">GitHub</a> | \n",
    "  <a href=\"https://www.kaggle.com/duygujones\">Kaggle</a> | \n",
    "  <a href=\"https://medium.com/@duygujones\">Medium</a> | \n",
    "  <a href=\"https://public.tableau.com/app/profile/duygu.jones/vizzes\">Tableau</a>\n",
    "</p>"
   ]
  }
 ],
 "metadata": {
  "hide_input": false,
  "kernelspec": {
   "display_name": "Python 3 (ipykernel)",
   "language": "python",
   "name": "python3"
  },
  "language_info": {
   "codemirror_mode": {
    "name": "ipython",
    "version": 3
   },
   "file_extension": ".py",
   "mimetype": "text/x-python",
   "name": "python",
   "nbconvert_exporter": "python",
   "pygments_lexer": "ipython3",
   "version": "3.11.7"
  },
  "toc": {
   "base_numbering": 1,
   "nav_menu": {},
   "number_sections": true,
   "sideBar": true,
   "skip_h1_title": false,
   "title_cell": "Table of Contents",
   "title_sidebar": "Contents",
   "toc_cell": false,
   "toc_position": {
    "height": "calc(100% - 180px)",
    "left": "10px",
    "top": "150px",
    "width": "342.951px"
   },
   "toc_section_display": true,
   "toc_window_display": true
  }
 },
 "nbformat": 4,
 "nbformat_minor": 4
}
