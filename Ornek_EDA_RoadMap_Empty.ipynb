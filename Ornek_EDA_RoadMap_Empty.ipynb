{
 "cells": [
  {
   "cell_type": "markdown",
   "id": "ad050776",
   "metadata": {
    "hide_input": false
   },
   "source": [
    "<div style=\"color:white;\n",
    "            display:fill;\n",
    "            border-radius:15px;\n",
    "            background-color:dodgerblue;\n",
    "            font-size:100%;\n",
    "            font-family:Verdana;\n",
    "            letter-spacing:1px\">\n",
    "    <h1 style='padding: 20px;\n",
    "              color:white;\n",
    "              text-align:center;'>\n",
    "        EDA ROAD MAP\n",
    "    </h1>\n",
    "    </div>\n",
    "\n",
    "\n",
    "<p style=\"text-align: right;\"><font color='Magenta'> <b>Duygu Jones</b><font color='black'><p>\n",
    "    \n",
    "<p style=\"text-align: right;\"><font color='dodgerblue'> <b>Data Science | 2024</b><font color='orange'><p>\n",
    "\n",
    "<b>Follow me </b>[Linkedin](https://www.linkedin.com/in/duygujones/) | [GitHub](https://github.com/Duygu-Jones) | [Kaggle](https://www.kaggle.com/duygujones) | [Tableau](https://public.tableau.com/app/profile/duygu.jones/vizzes) | [Source]() "
   ]
  },
  {
   "attachments": {},
   "cell_type": "markdown",
   "id": "99418259",
   "metadata": {},
   "source": [
    "<div style=\"border-radius:10px;border:#254E58 solid;padding: 15px;background-color:white;font-size:110%;text-align:left\">\n",
    "\n",
    "<h3 align=\"left\"><font color=dodgerblue> 🎯 Project Description:</font></h3>   \n",
    "\n",
    "- ..\n",
    "    \n",
    "<h3 align=\"left\"><font color=dodgerblue> 📝 About the Datasets </font></h3>     \n",
    "    \n",
    "**Dataset Descriptions:** '..csv' \n",
    "\n",
    "- **Content:** Daily stock prices for various companies.\n",
    "- **Rows:**    \n",
    "- **Columns:**  \n",
    "    \n",
    " \n",
    "- **Purpose:**\n",
    " \n",
    "---\n",
    "\n",
    "<h3 align=\"left\"><font color=dodgerblue> About the Subject </font></h3> \n",
    "    \n",
    "    \n",
    "---   \n",
    "    \n",
    "<h3 align=\"left\"><font color=dodgerblue> ✅Table of Content </font></h3>\n",
    "    \n",
    "- Using the **'.csv'** included in the course package, write a python script to perform the following tasks:\n",
    "\n",
    "<ul>\n",
    "<li><a href=\"#import\">Importing the Libraries </a></li>\n",
    "    \n",
    "<li><a href=\"#load\">Loading the dataset </a></li>\n",
    "    \n",
    "<li><a href=\"#understanding\">Understanding the dataset)</a></li>\n",
    "    \n",
    "<li><a href=\"#missing\">Handling missing data</a></li>\n",
    "    \n",
    "<li><a href=\"#preprocessing\">Data preprocessing</a></li>\n",
    "    \n",
    "<li><a href=\"#visualization\">Data visualization</a></li>\n",
    "    \n",
    "<li><a href=\"#bonus\">Bonus-Trends, Patterns, and Anomalies</a></li>\n",
    "    \n",
    "<li><a href=\"#bonus\">Conclusions and Insights</a></li>    \n",
    "    \n",
    "</ul>  "
   ]
  },
  {
   "cell_type": "markdown",
   "id": "d096db8a",
   "metadata": {},
   "source": [
    "## <font color='Navy'> <b>Introduction to EDA</b><font color='black'>\n",
    "What are you going to do? what is your purpose? \n",
    "    \n",
    "Explanation:\n",
    "    "
   ]
  },
  {
   "cell_type": "markdown",
   "id": "b35173e1",
   "metadata": {},
   "source": [
    "## <font color='Navy'> <b>About the Dataset</b><font color='black'>\n",
    "Explain the dataset:\n",
    "    \n",
    "    This data contains information about over 1000 roller coasters. Information was scraped from wikipedia.    "
   ]
  },
  {
   "cell_type": "markdown",
   "id": "996f202f",
   "metadata": {},
   "source": [
    "## <font color='Navy'> <b>Step 0: Import Libs and Reading Data files</b><font color='black'>"
   ]
  },
  {
   "cell_type": "markdown",
   "id": "9f63307b",
   "metadata": {},
   "source": [
    "## <font color='Navy'> <b>Step 1: Data Understanding</b><font color='black'>\n",
    "     \n",
    "- Dataframe shape\n",
    "- head and tail\n",
    "- dtypes\n",
    "- describe\n",
    "- duplicated\n",
    "- missing values.."
   ]
  },
  {
   "cell_type": "markdown",
   "id": "c4691255",
   "metadata": {},
   "source": [
    "### <font color='blue'> <b>Get the first 5 lines and /last/sample</b><font color='black'>"
   ]
  },
  {
   "cell_type": "markdown",
   "id": "8e17518c",
   "metadata": {},
   "source": [
    "### <font color='blue'> <b>Check the dtype</b><font color='black'>"
   ]
  },
  {
   "cell_type": "markdown",
   "id": "8834cf74",
   "metadata": {},
   "source": [
    "### <font color='blue'> <b>Look at the shape</b><font color='black'>"
   ]
  },
  {
   "cell_type": "markdown",
   "id": "72fbfd61",
   "metadata": {},
   "source": [
    "### <font color='blue'> <b>Look at the general information</b><font color='black'>"
   ]
  },
  {
   "cell_type": "markdown",
   "id": "1eb89cf3",
   "metadata": {},
   "source": [
    "### <font color='blue'> <b>Check for missing values</b><font color='black'>"
   ]
  },
  {
   "cell_type": "markdown",
   "id": "c25e7513",
   "metadata": {},
   "source": [
    "### <font color='blue'> <b>Check for duplicates</b><font color='black'>\n",
    "Hint:  \n",
    "    \n",
    "- `[df.duplicated()]`\n",
    "- `df.loc[df.duplicated()]`    \n",
    "    \n",
    "duplicate a 'column1' values in rows and create a new df1\n",
    "- `df.loc[df.duplicated(subset=['column1'])].head()`\n",
    "- `df = df.loc[~df.duplicated(subset=['column1', 'column2', 'column3'])].reset_index(drop=True).copy()`\n",
    "    \n",
    "checking an example duplicate\n",
    "- `df.query('column1 == \"Value1 in the column1\"')`    \n",
    "    \n",
    "---    "
   ]
  },
  {
   "cell_type": "markdown",
   "id": "fb3cefbe",
   "metadata": {},
   "source": [
    "### <font color='blue'> <b>Check unique values</b><font color='black'>\n",
    "Hint: `df['column'].unique()`"
   ]
  },
  {
   "cell_type": "markdown",
   "id": "cfa111fe",
   "metadata": {},
   "source": [
    "### <font color='blue'> <b>Calculate the basic statistical values</b><font color='black'>\n",
    "Hint:\n",
    "    \n",
    "`df.describe().T`\n",
    "    \n",
    "`df['column'].mean().round(2)`\n",
    "    \n",
    "`df.agg({'column1':'max','column2':'mean', 'column3': 'std'})`"
   ]
  },
  {
   "cell_type": "markdown",
   "id": "ec616d54",
   "metadata": {},
   "source": [
    "### <font color='blue'> <b>Outlier Analysis for 'colunm'</b><font color='black'>\n",
    "    \n",
    "Hint:\n",
    "use the lib; `from scipy import stats` \n",
    "    \n",
    "`z_scores = np.abs(stats.zscore(df['column']))`  \n",
    "    \n",
    "`outliers = np.where(z_scores >3)`\n",
    "    \n",
    "`df.iloc[outliers]`\n",
    "  "
   ]
  },
  {
   "cell_type": "markdown",
   "id": "036217b0",
   "metadata": {},
   "source": [
    "### <font color='blue'> <b>Calculate the ratio of age/sex... and necessery data</b><font color='black'>\n",
    "Hint:\n",
    "`df.Target.value_counts()`\n",
    "    \n",
    "`df.Target.value_counts(normalize= True)`    "
   ]
  },
  {
   "cell_type": "markdown",
   "id": "a0cb020f",
   "metadata": {},
   "source": [
    "### <font color='blue'> <b>Filter the 'column' has the values less than ..10...</b><font color='black'>\n",
    "Hint:\n",
    "`df['column'] <10` \n",
    "\n",
    "`df.query('column1 < 10 & column2 > 5') `                  "
   ]
  },
  {
   "cell_type": "markdown",
   "id": "824579af",
   "metadata": {},
   "source": [
    "### <font color='blue'> <b>Calculate the correlation of 'column' with other features (Correlation Analysis)</b><font color='black'> \n",
    "   \n",
    "Hint:\n",
    "- `df.corr()['column'].sort_values(ascending= False)`\n",
    "- `df[['column1', 'column2', 'column3'...]].dropna().corr()`\n",
    "  "
   ]
  },
  {
   "cell_type": "markdown",
   "id": "8634bfbb",
   "metadata": {},
   "source": [
    "## <font color='Navy'> <b>Step 2: Data Preperation</b><font color='black'>\n",
    "- Dropping irrelevant columns and rows\n",
    "- Identifying duplicated columns\n",
    "- Renaming Columns\n",
    "- Feature Creation"
   ]
  },
  {
   "cell_type": "markdown",
   "id": "bf4aa1f6",
   "metadata": {},
   "source": [
    "### <font color='blue'> <b>Change the column names if necessary</b><font color='black'>\n",
    "Hint:\n",
    "    \n",
    "- `df.rename(columns=lambda x: x.split('(')[0], inplace=True)`  or\n",
    "- `df.rename(columns=str.lower, inplace=True)`\n",
    "- `df.columns.str.lower()`     \n",
    "- `df.columns = ['X',\t'Y',\t'Z'.....]`   "
   ]
  },
  {
   "cell_type": "markdown",
   "id": "208a79c8",
   "metadata": {},
   "source": [
    "### <font color='blue'> <b> Create a new column giving the ....</b><font color='black'>\n",
    "Hint: `df['column1']= df['column2'] - df['column3']` "
   ]
  },
  {
   "cell_type": "markdown",
   "id": "406e1fcf",
   "metadata": {},
   "source": [
    "### <font color='blue'> <b>Convert the Time to.... if necessery (Time Series Transformation)</b><font color='black'>\n",
    "   \n",
    "Hint:\n",
    "`df['Years'] = df['Time'] // 12`\n",
    "    \n",
    "`df['Month'] = df['Time'] % 12`\n",
    "`\n",
    "  "
   ]
  },
  {
   "cell_type": "markdown",
   "id": "cbbe98a5",
   "metadata": {},
   "source": [
    "### <font color='blue'> <b>Create a new column by groups based on 'columnX' (Grouping and Aggregation)</b><font color='black'> \n",
    "   \n",
    "Hint:\n",
    "`bins = [0,5,10,50]`\n",
    "    \n",
    "`group_names =['Low','Medium','High']`\n",
    "    \n",
    "`df['Frequency_Group'] = pd.cut(df['column'], bins, labels = group_names)`\n",
    "  "
   ]
  },
  {
   "cell_type": "markdown",
   "id": "5240f1a5",
   "metadata": {},
   "source": [
    "### <font color='blue'> <b> Fill the missing values</b><font color='black'>\n",
    "Hint: \n",
    "Numerical values;\n",
    "- `df['column1'].fillna(df['column1'].mean())` \n",
    "    \n",
    "Categorical values;\n",
    "- `df['dept'].fillna(df['dept'].mode()[0])`\n",
    "- `df['dept'].fillna(method='ffill', inplace=True)`  or `bfill`\n",
    "    \n",
    "Filling by condition & group;\n",
    "- `df.loc[df['salary'] >= 100, 'status'] =  df.loc[df['salary'] >= 100, 'status'].fillna(df.loc[df['salary'] >= 100, 'status'].mode()[0])`\n",
    "- `df['status'].fillna(df.groupby(['dept'])['status'].transform(lambda x: x.mode()[0]), inplace=True)`\n",
    "- `df['salary'].fillna(df.groupby(['status','dept'])['salary'].transform('mean'),inplace=True)`    "
   ]
  },
  {
   "cell_type": "markdown",
   "id": "65ccca47",
   "metadata": {},
   "source": [
    "## <font color='Navy'> <b>Step 3: Feature Understanding</b><font color='black'>\n",
    "- (Univariate analysis)\n",
    "\n",
    "    - Plotting Feature Distributions\n",
    "    - Histogram\n",
    "    - KDE\n",
    "    - Boxplot    "
   ]
  },
  {
   "cell_type": "markdown",
   "id": "a7cd8bd6",
   "metadata": {},
   "source": [
    "## <font color='Navy'> <b>Step 4: Feature Relationships</b><font color='black'>\n",
    "- Scatterplot\n",
    "- Heatmap Correlation\n",
    "- Pairplot\n",
    "- Groupby comparisons    \n",
    "    "
   ]
  },
  {
   "cell_type": "markdown",
   "id": "6ee84858",
   "metadata": {},
   "source": [
    "## <font color='Navy'> <b>Step 5: Ask a Question about the data</b><font color='black'>\n",
    "- Try to answer a question you have about the data using a plot or statistic.\n",
    "    - Exp: What are the locations with the fastest roller coasters (minimum of 10)?    "
   ]
  }
 ],
 "metadata": {
  "hide_input": false,
  "kernelspec": {
   "display_name": "Python 3 (ipykernel)",
   "language": "python",
   "name": "python3"
  },
  "language_info": {
   "codemirror_mode": {
    "name": "ipython",
    "version": 3
   },
   "file_extension": ".py",
   "mimetype": "text/x-python",
   "name": "python",
   "nbconvert_exporter": "python",
   "pygments_lexer": "ipython3",
   "version": "3.11.7"
  },
  "toc": {
   "base_numbering": 1,
   "nav_menu": {},
   "number_sections": true,
   "sideBar": true,
   "skip_h1_title": false,
   "title_cell": "Table of Contents",
   "title_sidebar": "Contents",
   "toc_cell": false,
   "toc_position": {
    "height": "calc(100% - 180px)",
    "left": "10px",
    "top": "150px",
    "width": "366.738px"
   },
   "toc_section_display": true,
   "toc_window_display": true
  }
 },
 "nbformat": 4,
 "nbformat_minor": 5
}
